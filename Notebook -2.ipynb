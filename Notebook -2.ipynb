{
 "cells": [
  {
   "cell_type": "code",
   "execution_count": 19,
   "metadata": {
    "scrolled": true
   },
   "outputs": [
    {
     "data": {
      "text/html": [
       "<div>\n",
       "<style scoped>\n",
       "    .dataframe tbody tr th:only-of-type {\n",
       "        vertical-align: middle;\n",
       "    }\n",
       "\n",
       "    .dataframe tbody tr th {\n",
       "        vertical-align: top;\n",
       "    }\n",
       "\n",
       "    .dataframe thead th {\n",
       "        text-align: right;\n",
       "    }\n",
       "</style>\n",
       "<table border=\"1\" class=\"dataframe\">\n",
       "  <thead>\n",
       "    <tr style=\"text-align: right;\">\n",
       "      <th></th>\n",
       "      <th>Respondent</th>\n",
       "      <th>MainBranch</th>\n",
       "      <th>Hobbyist</th>\n",
       "      <th>Age</th>\n",
       "      <th>Age1stCode</th>\n",
       "      <th>CompFreq</th>\n",
       "      <th>CompTotal</th>\n",
       "      <th>ConvertedComp</th>\n",
       "      <th>Country</th>\n",
       "      <th>CurrencyDesc</th>\n",
       "      <th>...</th>\n",
       "      <th>SurveyEase</th>\n",
       "      <th>SurveyLength</th>\n",
       "      <th>Trans</th>\n",
       "      <th>UndergradMajor</th>\n",
       "      <th>WebframeDesireNextYear</th>\n",
       "      <th>WebframeWorkedWith</th>\n",
       "      <th>WelcomeChange</th>\n",
       "      <th>WorkWeekHrs</th>\n",
       "      <th>YearsCode</th>\n",
       "      <th>YearsCodePro</th>\n",
       "    </tr>\n",
       "  </thead>\n",
       "  <tbody>\n",
       "    <tr>\n",
       "      <td>0</td>\n",
       "      <td>1</td>\n",
       "      <td>I am a developer by profession</td>\n",
       "      <td>Yes</td>\n",
       "      <td>NaN</td>\n",
       "      <td>13</td>\n",
       "      <td>Monthly</td>\n",
       "      <td>NaN</td>\n",
       "      <td>NaN</td>\n",
       "      <td>Germany</td>\n",
       "      <td>European Euro</td>\n",
       "      <td>...</td>\n",
       "      <td>Neither easy nor difficult</td>\n",
       "      <td>Appropriate in length</td>\n",
       "      <td>No</td>\n",
       "      <td>Computer science, computer engineering, or sof...</td>\n",
       "      <td>ASP.NET Core</td>\n",
       "      <td>ASP.NET;ASP.NET Core</td>\n",
       "      <td>Just as welcome now as I felt last year</td>\n",
       "      <td>50.0</td>\n",
       "      <td>36</td>\n",
       "      <td>27</td>\n",
       "    </tr>\n",
       "    <tr>\n",
       "      <td>1</td>\n",
       "      <td>2</td>\n",
       "      <td>I am a developer by profession</td>\n",
       "      <td>No</td>\n",
       "      <td>NaN</td>\n",
       "      <td>19</td>\n",
       "      <td>NaN</td>\n",
       "      <td>NaN</td>\n",
       "      <td>NaN</td>\n",
       "      <td>United Kingdom</td>\n",
       "      <td>Pound sterling</td>\n",
       "      <td>...</td>\n",
       "      <td>NaN</td>\n",
       "      <td>NaN</td>\n",
       "      <td>NaN</td>\n",
       "      <td>Computer science, computer engineering, or sof...</td>\n",
       "      <td>NaN</td>\n",
       "      <td>NaN</td>\n",
       "      <td>Somewhat more welcome now than last year</td>\n",
       "      <td>NaN</td>\n",
       "      <td>7</td>\n",
       "      <td>4</td>\n",
       "    </tr>\n",
       "    <tr>\n",
       "      <td>2</td>\n",
       "      <td>3</td>\n",
       "      <td>I code primarily as a hobby</td>\n",
       "      <td>Yes</td>\n",
       "      <td>NaN</td>\n",
       "      <td>15</td>\n",
       "      <td>NaN</td>\n",
       "      <td>NaN</td>\n",
       "      <td>NaN</td>\n",
       "      <td>Russian Federation</td>\n",
       "      <td>NaN</td>\n",
       "      <td>...</td>\n",
       "      <td>Neither easy nor difficult</td>\n",
       "      <td>Appropriate in length</td>\n",
       "      <td>NaN</td>\n",
       "      <td>NaN</td>\n",
       "      <td>NaN</td>\n",
       "      <td>NaN</td>\n",
       "      <td>Somewhat more welcome now than last year</td>\n",
       "      <td>NaN</td>\n",
       "      <td>4</td>\n",
       "      <td>NaN</td>\n",
       "    </tr>\n",
       "    <tr>\n",
       "      <td>3</td>\n",
       "      <td>4</td>\n",
       "      <td>I am a developer by profession</td>\n",
       "      <td>Yes</td>\n",
       "      <td>25.0</td>\n",
       "      <td>18</td>\n",
       "      <td>NaN</td>\n",
       "      <td>NaN</td>\n",
       "      <td>NaN</td>\n",
       "      <td>Albania</td>\n",
       "      <td>Albanian lek</td>\n",
       "      <td>...</td>\n",
       "      <td>NaN</td>\n",
       "      <td>NaN</td>\n",
       "      <td>No</td>\n",
       "      <td>Computer science, computer engineering, or sof...</td>\n",
       "      <td>NaN</td>\n",
       "      <td>NaN</td>\n",
       "      <td>Somewhat less welcome now than last year</td>\n",
       "      <td>40.0</td>\n",
       "      <td>7</td>\n",
       "      <td>4</td>\n",
       "    </tr>\n",
       "    <tr>\n",
       "      <td>4</td>\n",
       "      <td>5</td>\n",
       "      <td>I used to be a developer by profession, but no...</td>\n",
       "      <td>Yes</td>\n",
       "      <td>31.0</td>\n",
       "      <td>16</td>\n",
       "      <td>NaN</td>\n",
       "      <td>NaN</td>\n",
       "      <td>NaN</td>\n",
       "      <td>United States</td>\n",
       "      <td>NaN</td>\n",
       "      <td>...</td>\n",
       "      <td>Easy</td>\n",
       "      <td>Too short</td>\n",
       "      <td>No</td>\n",
       "      <td>Computer science, computer engineering, or sof...</td>\n",
       "      <td>Django;Ruby on Rails</td>\n",
       "      <td>Ruby on Rails</td>\n",
       "      <td>Just as welcome now as I felt last year</td>\n",
       "      <td>NaN</td>\n",
       "      <td>15</td>\n",
       "      <td>8</td>\n",
       "    </tr>\n",
       "  </tbody>\n",
       "</table>\n",
       "<p>5 rows × 61 columns</p>\n",
       "</div>"
      ],
      "text/plain": [
       "   Respondent                                         MainBranch Hobbyist  \\\n",
       "0           1                     I am a developer by profession      Yes   \n",
       "1           2                     I am a developer by profession       No   \n",
       "2           3                        I code primarily as a hobby      Yes   \n",
       "3           4                     I am a developer by profession      Yes   \n",
       "4           5  I used to be a developer by profession, but no...      Yes   \n",
       "\n",
       "    Age Age1stCode CompFreq  CompTotal  ConvertedComp             Country  \\\n",
       "0   NaN         13  Monthly        NaN            NaN             Germany   \n",
       "1   NaN         19      NaN        NaN            NaN      United Kingdom   \n",
       "2   NaN         15      NaN        NaN            NaN  Russian Federation   \n",
       "3  25.0         18      NaN        NaN            NaN             Albania   \n",
       "4  31.0         16      NaN        NaN            NaN       United States   \n",
       "\n",
       "     CurrencyDesc  ...                  SurveyEase           SurveyLength  \\\n",
       "0   European Euro  ...  Neither easy nor difficult  Appropriate in length   \n",
       "1  Pound sterling  ...                         NaN                    NaN   \n",
       "2             NaN  ...  Neither easy nor difficult  Appropriate in length   \n",
       "3    Albanian lek  ...                         NaN                    NaN   \n",
       "4             NaN  ...                        Easy              Too short   \n",
       "\n",
       "  Trans                                     UndergradMajor  \\\n",
       "0    No  Computer science, computer engineering, or sof...   \n",
       "1   NaN  Computer science, computer engineering, or sof...   \n",
       "2   NaN                                                NaN   \n",
       "3    No  Computer science, computer engineering, or sof...   \n",
       "4    No  Computer science, computer engineering, or sof...   \n",
       "\n",
       "  WebframeDesireNextYear    WebframeWorkedWith  \\\n",
       "0           ASP.NET Core  ASP.NET;ASP.NET Core   \n",
       "1                    NaN                   NaN   \n",
       "2                    NaN                   NaN   \n",
       "3                    NaN                   NaN   \n",
       "4   Django;Ruby on Rails         Ruby on Rails   \n",
       "\n",
       "                              WelcomeChange WorkWeekHrs YearsCode YearsCodePro  \n",
       "0   Just as welcome now as I felt last year        50.0        36           27  \n",
       "1  Somewhat more welcome now than last year         NaN         7            4  \n",
       "2  Somewhat more welcome now than last year         NaN         4          NaN  \n",
       "3  Somewhat less welcome now than last year        40.0         7            4  \n",
       "4   Just as welcome now as I felt last year         NaN        15            8  \n",
       "\n",
       "[5 rows x 61 columns]"
      ]
     },
     "execution_count": 19,
     "metadata": {},
     "output_type": "execute_result"
    }
   ],
   "source": [
    "import numpy as np\n",
    "import pandas as pd\n",
    "import matplotlib.pyplot as plt\n",
    "from collections import defaultdict\n",
    "import altair as alt\n",
    "\n",
    "df = pd.read_csv('./developer_survey_2020/survey_results_public.csv')\n",
    "schema_df = pd.read_csv('./developer_survey_2020/survey_results_schema.csv',encoding= 'unicode_escape')\n",
    "df.head()"
   ]
  },
  {
   "cell_type": "code",
   "execution_count": 2,
   "metadata": {},
   "outputs": [],
   "source": [
    "df = df.dropna(subset= ['DevType'])"
   ]
  },
  {
   "cell_type": "markdown",
   "metadata": {},
   "source": [
    "## Objective:  To Do -- create tests for the functions"
   ]
  },
  {
   "cell_type": "code",
   "execution_count": 3,
   "metadata": {},
   "outputs": [],
   "source": [
    "def clean_counts(df, col, values, col1, col2='Number_of_Developers'):\n",
    "    raw_df = df[col].value_counts().reset_index()\n",
    "    clean_df = defaultdict(int)\n",
    "    for val in values:\n",
    "        for index, row in raw_df.iterrows():\n",
    "            if val in list(row)[0]:\n",
    "                clean_df[val] += int(list(row)[1])\n",
    "    clean_df = pd.DataFrame(pd.Series(clean_df)).reset_index()\n",
    "    clean_df.columns = [col1, col2]\n",
    "    clean_df = clean_df.reset_index(drop=True)\n",
    "    return clean_df\n",
    "    \n",
    "    \n",
    "def create_plot(df1, df2, y_axis):\n",
    "    past_df = df1.copy()\n",
    "    next_df = df2.copy()\n",
    "    past_df['usage'] = 'Worked with in PAST year'\n",
    "    next_df['usage'] = 'Want to work with NEXT year'\n",
    "    concat_df = pd.concat([past_df, next_df])\n",
    "    plot = alt.Chart(concat_df).mark_bar(opacity=0.9).encode(\n",
    "        x=alt.X(\"Number_of_Developers\", title=\"Number of Developers\"),\n",
    "        y=alt.Y(y_axis, sort='-x'),\n",
    "        color='usage'\n",
    "    ).properties(width=650)\n",
    "    return plot\n",
    "   \n",
    "def diff_plot(df1, df2, x_axis):\n",
    "    copy = df1.copy()\n",
    "    copy['Number_of_Developers'] = \\\n",
    "        df2['Number_of_Developers'] - df1['Number_of_Developers']\n",
    "    diff_plot = alt.Chart(copy).mark_bar().encode(\n",
    "        x=x_axis,\n",
    "        y=alt.Y(\"Number_of_Developers\", title=\"Number of Developers\"),\n",
    "        color=alt.condition(\n",
    "            alt.datum.Number_of_Developers > 0,\n",
    "            alt.value(\"steelblue\"),  # The positive color\n",
    "            alt.value(\"orange\")  # The negative color\n",
    "        )\n",
    "    ).properties(width=650)\n",
    "    return diff_plot\n",
    "    "
   ]
  },
  {
   "cell_type": "code",
   "execution_count": 4,
   "metadata": {},
   "outputs": [],
   "source": [
    "data_jobs = ['Data or business analyst', 'Data or business analyst', 'Engineer, data']"
   ]
  },
  {
   "cell_type": "code",
   "execution_count": 5,
   "metadata": {},
   "outputs": [],
   "source": [
    "def job_filter(devtype, data_jobs):\n",
    "    #data_jobs = ['Data or business analyst', 'Data or business analyst', 'Engineer, data']\n",
    "    for job in data_jobs:\n",
    "        if job in devtype:\n",
    "            return 1\n",
    "    return 0"
   ]
  },
  {
   "cell_type": "code",
   "execution_count": 6,
   "metadata": {},
   "outputs": [
    {
     "data": {
      "text/plain": [
       "1"
      ]
     },
     "execution_count": 6,
     "metadata": {},
     "output_type": "execute_result"
    }
   ],
   "source": [
    "test1 =  'Developer, back-end;Educator'\n",
    "test2 = 'Database administrator;Developer, back-end;Developer, front-end;Developer, full-stack'\n",
    "test3 = 'Data scientist or machine learning specialist;Developer, back-end;Engineer, data'\n",
    "job_filter(test1, data_jobs)\n",
    "job_filter(test2, data_jobs)\n",
    "job_filter(test3, data_jobs)"
   ]
  },
  {
   "cell_type": "markdown",
   "metadata": {},
   "source": [
    "## How many people answering the survey have data science related jobs?"
   ]
  },
  {
   "cell_type": "code",
   "execution_count": 7,
   "metadata": {},
   "outputs": [
    {
     "data": {
      "text/plain": [
       "6653"
      ]
     },
     "execution_count": 7,
     "metadata": {},
     "output_type": "execute_result"
    }
   ],
   "source": [
    "df['DevType'].apply(job_filter, data_jobs= data_jobs).sum()"
   ]
  },
  {
   "cell_type": "code",
   "execution_count": 8,
   "metadata": {},
   "outputs": [],
   "source": [
    "df['dataJob'] = df['DevType'].apply(job_filter, data_jobs= data_jobs)"
   ]
  },
  {
   "cell_type": "markdown",
   "metadata": {},
   "source": [
    "## Select data related jobs:"
   ]
  },
  {
   "cell_type": "code",
   "execution_count": 11,
   "metadata": {},
   "outputs": [],
   "source": [
    "data_jobs_df = df[df['dataJob'] == 1] "
   ]
  },
  {
   "cell_type": "markdown",
   "metadata": {},
   "source": [
    "# What are the most popular programing languages being used by data scientist, data analysts and data engineers in 2020?"
   ]
  },
  {
   "cell_type": "code",
   "execution_count": 12,
   "metadata": {},
   "outputs": [],
   "source": [
    "languages = ['Assembly', 'Bash/Shell/PowerShell', 'C','C#','C++','Dart' ,'Go', 'Haskell',\n",
    "             'HTML/CSS', 'Java', 'JavaScript', 'Julia','Kotlin', 'Objective-C', 'Perl',\n",
    "             'PHP', 'Python', 'R']"
   ]
  },
  {
   "cell_type": "code",
   "execution_count": 17,
   "metadata": {},
   "outputs": [],
   "source": [
    "LanguageWorkedWith = clean_counts(data_jobs_df,'LanguageWorkedWith', languages, 'language')"
   ]
  },
  {
   "cell_type": "code",
   "execution_count": 15,
   "metadata": {},
   "outputs": [],
   "source": [
    "LanguageDesireNextYear = clean_counts(data_jobs_df,'LanguageDesireNextYear', languages, 'language')"
   ]
  },
  {
   "cell_type": "code",
   "execution_count": 20,
   "metadata": {},
   "outputs": [
    {
     "data": {
      "text/html": [
       "\n",
       "<div id=\"altair-viz-b41a20a906a74a768bd37b273296fb77\"></div>\n",
       "<script type=\"text/javascript\">\n",
       "  (function(spec, embedOpt){\n",
       "    let outputDiv = document.currentScript.previousElementSibling;\n",
       "    if (outputDiv.id !== \"altair-viz-b41a20a906a74a768bd37b273296fb77\") {\n",
       "      outputDiv = document.getElementById(\"altair-viz-b41a20a906a74a768bd37b273296fb77\");\n",
       "    }\n",
       "    const paths = {\n",
       "      \"vega\": \"https://cdn.jsdelivr.net/npm//vega@5?noext\",\n",
       "      \"vega-lib\": \"https://cdn.jsdelivr.net/npm//vega-lib?noext\",\n",
       "      \"vega-lite\": \"https://cdn.jsdelivr.net/npm//vega-lite@4.8.1?noext\",\n",
       "      \"vega-embed\": \"https://cdn.jsdelivr.net/npm//vega-embed@6?noext\",\n",
       "    };\n",
       "\n",
       "    function loadScript(lib) {\n",
       "      return new Promise(function(resolve, reject) {\n",
       "        var s = document.createElement('script');\n",
       "        s.src = paths[lib];\n",
       "        s.async = true;\n",
       "        s.onload = () => resolve(paths[lib]);\n",
       "        s.onerror = () => reject(`Error loading script: ${paths[lib]}`);\n",
       "        document.getElementsByTagName(\"head\")[0].appendChild(s);\n",
       "      });\n",
       "    }\n",
       "\n",
       "    function showError(err) {\n",
       "      outputDiv.innerHTML = `<div class=\"error\" style=\"color:red;\">${err}</div>`;\n",
       "      throw err;\n",
       "    }\n",
       "\n",
       "    function displayChart(vegaEmbed) {\n",
       "      vegaEmbed(outputDiv, spec, embedOpt)\n",
       "        .catch(err => showError(`Javascript Error: ${err.message}<br>This usually means there's a typo in your chart specification. See the javascript console for the full traceback.`));\n",
       "    }\n",
       "\n",
       "    if(typeof define === \"function\" && define.amd) {\n",
       "      requirejs.config({paths});\n",
       "      require([\"vega-embed\"], displayChart, err => showError(`Error loading script: ${err.message}`));\n",
       "    } else if (typeof vegaEmbed === \"function\") {\n",
       "      displayChart(vegaEmbed);\n",
       "    } else {\n",
       "      loadScript(\"vega\")\n",
       "        .then(() => loadScript(\"vega-lite\"))\n",
       "        .then(() => loadScript(\"vega-embed\"))\n",
       "        .catch(showError)\n",
       "        .then(() => displayChart(vegaEmbed));\n",
       "    }\n",
       "  })({\"config\": {\"view\": {\"continuousWidth\": 400, \"continuousHeight\": 300}}, \"data\": {\"name\": \"data-67274ec59ff9dd04e40f233aa151dfb1\"}, \"mark\": {\"type\": \"bar\", \"opacity\": 0.9}, \"encoding\": {\"color\": {\"type\": \"nominal\", \"field\": \"usage\"}, \"x\": {\"type\": \"quantitative\", \"field\": \"Number_of_Developers\", \"title\": \"Number of Developers\"}, \"y\": {\"type\": \"nominal\", \"field\": \"language\", \"sort\": \"-x\"}}, \"width\": 650, \"$schema\": \"https://vega.github.io/schema/vega-lite/v4.8.1.json\", \"datasets\": {\"data-67274ec59ff9dd04e40f233aa151dfb1\": [{\"language\": \"Assembly\", \"Number_of_Developers\": 398, \"usage\": \"Worked with in PAST year\"}, {\"language\": \"Bash/Shell/PowerShell\", \"Number_of_Developers\": 2538, \"usage\": \"Worked with in PAST year\"}, {\"language\": \"C\", \"Number_of_Developers\": 4615, \"usage\": \"Worked with in PAST year\"}, {\"language\": \"C#\", \"Number_of_Developers\": 1936, \"usage\": \"Worked with in PAST year\"}, {\"language\": \"C++\", \"Number_of_Developers\": 1387, \"usage\": \"Worked with in PAST year\"}, {\"language\": \"Dart\", \"Number_of_Developers\": 196, \"usage\": \"Worked with in PAST year\"}, {\"language\": \"Go\", \"Number_of_Developers\": 586, \"usage\": \"Worked with in PAST year\"}, {\"language\": \"Haskell\", \"Number_of_Developers\": 152, \"usage\": \"Worked with in PAST year\"}, {\"language\": \"HTML/CSS\", \"Number_of_Developers\": 3686, \"usage\": \"Worked with in PAST year\"}, {\"language\": \"Java\", \"Number_of_Developers\": 4482, \"usage\": \"Worked with in PAST year\"}, {\"language\": \"JavaScript\", \"Number_of_Developers\": 3798, \"usage\": \"Worked with in PAST year\"}, {\"language\": \"Julia\", \"Number_of_Developers\": 119, \"usage\": \"Worked with in PAST year\"}, {\"language\": \"Kotlin\", \"Number_of_Developers\": 368, \"usage\": \"Worked with in PAST year\"}, {\"language\": \"Objective-C\", \"Number_of_Developers\": 242, \"usage\": \"Worked with in PAST year\"}, {\"language\": \"Perl\", \"Number_of_Developers\": 324, \"usage\": \"Worked with in PAST year\"}, {\"language\": \"PHP\", \"Number_of_Developers\": 1601, \"usage\": \"Worked with in PAST year\"}, {\"language\": \"Python\", \"Number_of_Developers\": 3827, \"usage\": \"Worked with in PAST year\"}, {\"language\": \"R\", \"Number_of_Developers\": 1546, \"usage\": \"Worked with in PAST year\"}, {\"language\": \"Assembly\", \"Number_of_Developers\": 252, \"usage\": \"Want to work with NEXT year\"}, {\"language\": \"Bash/Shell/PowerShell\", \"Number_of_Developers\": 1601, \"usage\": \"Want to work with NEXT year\"}, {\"language\": \"C\", \"Number_of_Developers\": 3345, \"usage\": \"Want to work with NEXT year\"}, {\"language\": \"C#\", \"Number_of_Developers\": 1461, \"usage\": \"Want to work with NEXT year\"}, {\"language\": \"C++\", \"Number_of_Developers\": 999, \"usage\": \"Want to work with NEXT year\"}, {\"language\": \"Dart\", \"Number_of_Developers\": 409, \"usage\": \"Want to work with NEXT year\"}, {\"language\": \"Go\", \"Number_of_Developers\": 1423, \"usage\": \"Want to work with NEXT year\"}, {\"language\": \"Haskell\", \"Number_of_Developers\": 376, \"usage\": \"Want to work with NEXT year\"}, {\"language\": \"HTML/CSS\", \"Number_of_Developers\": 2068, \"usage\": \"Want to work with NEXT year\"}, {\"language\": \"Java\", \"Number_of_Developers\": 3159, \"usage\": \"Want to work with NEXT year\"}, {\"language\": \"JavaScript\", \"Number_of_Developers\": 2614, \"usage\": \"Want to work with NEXT year\"}, {\"language\": \"Julia\", \"Number_of_Developers\": 374, \"usage\": \"Want to work with NEXT year\"}, {\"language\": \"Kotlin\", \"Number_of_Developers\": 835, \"usage\": \"Want to work with NEXT year\"}, {\"language\": \"Objective-C\", \"Number_of_Developers\": 181, \"usage\": \"Want to work with NEXT year\"}, {\"language\": \"Perl\", \"Number_of_Developers\": 203, \"usage\": \"Want to work with NEXT year\"}, {\"language\": \"PHP\", \"Number_of_Developers\": 737, \"usage\": \"Want to work with NEXT year\"}, {\"language\": \"Python\", \"Number_of_Developers\": 3714, \"usage\": \"Want to work with NEXT year\"}, {\"language\": \"R\", \"Number_of_Developers\": 2285, \"usage\": \"Want to work with NEXT year\"}]}}, {\"mode\": \"vega-lite\"});\n",
       "</script>"
      ],
      "text/plain": [
       "alt.Chart(...)"
      ]
     },
     "execution_count": 20,
     "metadata": {},
     "output_type": "execute_result"
    }
   ],
   "source": [
    "create_plot(LanguageWorkedWith, LanguageDesireNextYear, 'language')"
   ]
  },
  {
   "cell_type": "code",
   "execution_count": 21,
   "metadata": {},
   "outputs": [
    {
     "data": {
      "text/html": [
       "\n",
       "<div id=\"altair-viz-8aec15081247493aa9af8498c1b6008c\"></div>\n",
       "<script type=\"text/javascript\">\n",
       "  (function(spec, embedOpt){\n",
       "    let outputDiv = document.currentScript.previousElementSibling;\n",
       "    if (outputDiv.id !== \"altair-viz-8aec15081247493aa9af8498c1b6008c\") {\n",
       "      outputDiv = document.getElementById(\"altair-viz-8aec15081247493aa9af8498c1b6008c\");\n",
       "    }\n",
       "    const paths = {\n",
       "      \"vega\": \"https://cdn.jsdelivr.net/npm//vega@5?noext\",\n",
       "      \"vega-lib\": \"https://cdn.jsdelivr.net/npm//vega-lib?noext\",\n",
       "      \"vega-lite\": \"https://cdn.jsdelivr.net/npm//vega-lite@4.8.1?noext\",\n",
       "      \"vega-embed\": \"https://cdn.jsdelivr.net/npm//vega-embed@6?noext\",\n",
       "    };\n",
       "\n",
       "    function loadScript(lib) {\n",
       "      return new Promise(function(resolve, reject) {\n",
       "        var s = document.createElement('script');\n",
       "        s.src = paths[lib];\n",
       "        s.async = true;\n",
       "        s.onload = () => resolve(paths[lib]);\n",
       "        s.onerror = () => reject(`Error loading script: ${paths[lib]}`);\n",
       "        document.getElementsByTagName(\"head\")[0].appendChild(s);\n",
       "      });\n",
       "    }\n",
       "\n",
       "    function showError(err) {\n",
       "      outputDiv.innerHTML = `<div class=\"error\" style=\"color:red;\">${err}</div>`;\n",
       "      throw err;\n",
       "    }\n",
       "\n",
       "    function displayChart(vegaEmbed) {\n",
       "      vegaEmbed(outputDiv, spec, embedOpt)\n",
       "        .catch(err => showError(`Javascript Error: ${err.message}<br>This usually means there's a typo in your chart specification. See the javascript console for the full traceback.`));\n",
       "    }\n",
       "\n",
       "    if(typeof define === \"function\" && define.amd) {\n",
       "      requirejs.config({paths});\n",
       "      require([\"vega-embed\"], displayChart, err => showError(`Error loading script: ${err.message}`));\n",
       "    } else if (typeof vegaEmbed === \"function\") {\n",
       "      displayChart(vegaEmbed);\n",
       "    } else {\n",
       "      loadScript(\"vega\")\n",
       "        .then(() => loadScript(\"vega-lite\"))\n",
       "        .then(() => loadScript(\"vega-embed\"))\n",
       "        .catch(showError)\n",
       "        .then(() => displayChart(vegaEmbed));\n",
       "    }\n",
       "  })({\"config\": {\"view\": {\"continuousWidth\": 400, \"continuousHeight\": 300}}, \"data\": {\"name\": \"data-956674c8f67dc3dff19c2369b6e37452\"}, \"mark\": \"bar\", \"encoding\": {\"color\": {\"condition\": {\"value\": \"steelblue\", \"test\": \"(datum.Number_of_Developers > 0)\"}, \"value\": \"orange\"}, \"x\": {\"type\": \"nominal\", \"field\": \"language\"}, \"y\": {\"type\": \"quantitative\", \"field\": \"Number_of_Developers\", \"title\": \"Number of Developers\"}}, \"width\": 650, \"$schema\": \"https://vega.github.io/schema/vega-lite/v4.8.1.json\", \"datasets\": {\"data-956674c8f67dc3dff19c2369b6e37452\": [{\"language\": \"Assembly\", \"Number_of_Developers\": -146}, {\"language\": \"Bash/Shell/PowerShell\", \"Number_of_Developers\": -937}, {\"language\": \"C\", \"Number_of_Developers\": -1270}, {\"language\": \"C#\", \"Number_of_Developers\": -475}, {\"language\": \"C++\", \"Number_of_Developers\": -388}, {\"language\": \"Dart\", \"Number_of_Developers\": 213}, {\"language\": \"Go\", \"Number_of_Developers\": 837}, {\"language\": \"Haskell\", \"Number_of_Developers\": 224}, {\"language\": \"HTML/CSS\", \"Number_of_Developers\": -1618}, {\"language\": \"Java\", \"Number_of_Developers\": -1323}, {\"language\": \"JavaScript\", \"Number_of_Developers\": -1184}, {\"language\": \"Julia\", \"Number_of_Developers\": 255}, {\"language\": \"Kotlin\", \"Number_of_Developers\": 467}, {\"language\": \"Objective-C\", \"Number_of_Developers\": -61}, {\"language\": \"Perl\", \"Number_of_Developers\": -121}, {\"language\": \"PHP\", \"Number_of_Developers\": -864}, {\"language\": \"Python\", \"Number_of_Developers\": -113}, {\"language\": \"R\", \"Number_of_Developers\": 739}]}}, {\"mode\": \"vega-lite\"});\n",
       "</script>"
      ],
      "text/plain": [
       "alt.Chart(...)"
      ]
     },
     "execution_count": 21,
     "metadata": {},
     "output_type": "execute_result"
    }
   ],
   "source": [
    "diff_plot(LanguageWorkedWith, LanguageDesireNextYear, 'language')"
   ]
  },
  {
   "cell_type": "markdown",
   "metadata": {},
   "source": [
    "# What are the most popular database environments used by Data Scientists in 2020?"
   ]
  },
  {
   "cell_type": "code",
   "execution_count": 22,
   "metadata": {},
   "outputs": [],
   "source": [
    "databases = ['Cassandra', 'Couchbase', 'DynamoDB', 'Elasticsearch', 'Firebase',\n",
    "             'IBM DB2', 'MariaDB', 'Microsoft', 'SQL Server', 'MongoDB', 'MySQL', \n",
    "             'Oracle']"
   ]
  },
  {
   "cell_type": "code",
   "execution_count": 25,
   "metadata": {},
   "outputs": [],
   "source": [
    "DatabaseWorkedWith = clean_counts(data_jobs_df,'DatabaseWorkedWith', databases, 'database')"
   ]
  },
  {
   "cell_type": "markdown",
   "metadata": {},
   "source": [
    "# What are the most desired databases for next year?"
   ]
  },
  {
   "cell_type": "code",
   "execution_count": 24,
   "metadata": {},
   "outputs": [],
   "source": [
    "DatabaseDesireNextYear = clean_counts(data_jobs_df,'DatabaseDesireNextYear', databases, 'database')"
   ]
  },
  {
   "cell_type": "code",
   "execution_count": 27,
   "metadata": {},
   "outputs": [
    {
     "data": {
      "text/html": [
       "\n",
       "<div id=\"altair-viz-77e44b6817a54f2f8ba64849706b2711\"></div>\n",
       "<script type=\"text/javascript\">\n",
       "  (function(spec, embedOpt){\n",
       "    let outputDiv = document.currentScript.previousElementSibling;\n",
       "    if (outputDiv.id !== \"altair-viz-77e44b6817a54f2f8ba64849706b2711\") {\n",
       "      outputDiv = document.getElementById(\"altair-viz-77e44b6817a54f2f8ba64849706b2711\");\n",
       "    }\n",
       "    const paths = {\n",
       "      \"vega\": \"https://cdn.jsdelivr.net/npm//vega@5?noext\",\n",
       "      \"vega-lib\": \"https://cdn.jsdelivr.net/npm//vega-lib?noext\",\n",
       "      \"vega-lite\": \"https://cdn.jsdelivr.net/npm//vega-lite@4.8.1?noext\",\n",
       "      \"vega-embed\": \"https://cdn.jsdelivr.net/npm//vega-embed@6?noext\",\n",
       "    };\n",
       "\n",
       "    function loadScript(lib) {\n",
       "      return new Promise(function(resolve, reject) {\n",
       "        var s = document.createElement('script');\n",
       "        s.src = paths[lib];\n",
       "        s.async = true;\n",
       "        s.onload = () => resolve(paths[lib]);\n",
       "        s.onerror = () => reject(`Error loading script: ${paths[lib]}`);\n",
       "        document.getElementsByTagName(\"head\")[0].appendChild(s);\n",
       "      });\n",
       "    }\n",
       "\n",
       "    function showError(err) {\n",
       "      outputDiv.innerHTML = `<div class=\"error\" style=\"color:red;\">${err}</div>`;\n",
       "      throw err;\n",
       "    }\n",
       "\n",
       "    function displayChart(vegaEmbed) {\n",
       "      vegaEmbed(outputDiv, spec, embedOpt)\n",
       "        .catch(err => showError(`Javascript Error: ${err.message}<br>This usually means there's a typo in your chart specification. See the javascript console for the full traceback.`));\n",
       "    }\n",
       "\n",
       "    if(typeof define === \"function\" && define.amd) {\n",
       "      requirejs.config({paths});\n",
       "      require([\"vega-embed\"], displayChart, err => showError(`Error loading script: ${err.message}`));\n",
       "    } else if (typeof vegaEmbed === \"function\") {\n",
       "      displayChart(vegaEmbed);\n",
       "    } else {\n",
       "      loadScript(\"vega\")\n",
       "        .then(() => loadScript(\"vega-lite\"))\n",
       "        .then(() => loadScript(\"vega-embed\"))\n",
       "        .catch(showError)\n",
       "        .then(() => displayChart(vegaEmbed));\n",
       "    }\n",
       "  })({\"config\": {\"view\": {\"continuousWidth\": 400, \"continuousHeight\": 300}}, \"data\": {\"name\": \"data-30192aeef81fe2658919cadf715a56f5\"}, \"mark\": {\"type\": \"bar\", \"opacity\": 0.9}, \"encoding\": {\"color\": {\"type\": \"nominal\", \"field\": \"usage\"}, \"x\": {\"type\": \"quantitative\", \"field\": \"Number_of_Developers\", \"title\": \"Number of Developers\"}, \"y\": {\"type\": \"nominal\", \"field\": \"database\", \"sort\": \"-x\"}}, \"width\": 650, \"$schema\": \"https://vega.github.io/schema/vega-lite/v4.8.1.json\", \"datasets\": {\"data-30192aeef81fe2658919cadf715a56f5\": [{\"database\": \"Cassandra\", \"Number_of_Developers\": 334, \"usage\": \"Worked with in PAST year\"}, {\"database\": \"Couchbase\", \"Number_of_Developers\": 165, \"usage\": \"Worked with in PAST year\"}, {\"database\": \"DynamoDB\", \"Number_of_Developers\": 494, \"usage\": \"Worked with in PAST year\"}, {\"database\": \"Elasticsearch\", \"Number_of_Developers\": 1018, \"usage\": \"Worked with in PAST year\"}, {\"database\": \"Firebase\", \"Number_of_Developers\": 680, \"usage\": \"Worked with in PAST year\"}, {\"database\": \"IBM DB2\", \"Number_of_Developers\": 299, \"usage\": \"Worked with in PAST year\"}, {\"database\": \"MariaDB\", \"Number_of_Developers\": 1067, \"usage\": \"Worked with in PAST year\"}, {\"database\": \"Microsoft\", \"Number_of_Developers\": 2610, \"usage\": \"Worked with in PAST year\"}, {\"database\": \"SQL Server\", \"Number_of_Developers\": 2610, \"usage\": \"Worked with in PAST year\"}, {\"database\": \"MongoDB\", \"Number_of_Developers\": 1507, \"usage\": \"Worked with in PAST year\"}, {\"database\": \"MySQL\", \"Number_of_Developers\": 3253, \"usage\": \"Worked with in PAST year\"}, {\"database\": \"Oracle\", \"Number_of_Developers\": 1306, \"usage\": \"Worked with in PAST year\"}, {\"database\": \"Cassandra\", \"Number_of_Developers\": 777, \"usage\": \"Want to work with NEXT year\"}, {\"database\": \"Couchbase\", \"Number_of_Developers\": 280, \"usage\": \"Want to work with NEXT year\"}, {\"database\": \"DynamoDB\", \"Number_of_Developers\": 701, \"usage\": \"Want to work with NEXT year\"}, {\"database\": \"Elasticsearch\", \"Number_of_Developers\": 1452, \"usage\": \"Want to work with NEXT year\"}, {\"database\": \"Firebase\", \"Number_of_Developers\": 822, \"usage\": \"Want to work with NEXT year\"}, {\"database\": \"IBM DB2\", \"Number_of_Developers\": 197, \"usage\": \"Want to work with NEXT year\"}, {\"database\": \"MariaDB\", \"Number_of_Developers\": 801, \"usage\": \"Want to work with NEXT year\"}, {\"database\": \"Microsoft\", \"Number_of_Developers\": 1602, \"usage\": \"Want to work with NEXT year\"}, {\"database\": \"SQL Server\", \"Number_of_Developers\": 1602, \"usage\": \"Want to work with NEXT year\"}, {\"database\": \"MongoDB\", \"Number_of_Developers\": 1746, \"usage\": \"Want to work with NEXT year\"}, {\"database\": \"MySQL\", \"Number_of_Developers\": 1890, \"usage\": \"Want to work with NEXT year\"}, {\"database\": \"Oracle\", \"Number_of_Developers\": 826, \"usage\": \"Want to work with NEXT year\"}]}}, {\"mode\": \"vega-lite\"});\n",
       "</script>"
      ],
      "text/plain": [
       "alt.Chart(...)"
      ]
     },
     "execution_count": 27,
     "metadata": {},
     "output_type": "execute_result"
    }
   ],
   "source": [
    "create_plot(DatabaseWorkedWith, DatabaseDesireNextYear, 'database')"
   ]
  },
  {
   "cell_type": "code",
   "execution_count": 28,
   "metadata": {},
   "outputs": [
    {
     "data": {
      "text/html": [
       "\n",
       "<div id=\"altair-viz-6e81ab06161f4ab7b17ca0742725ed9e\"></div>\n",
       "<script type=\"text/javascript\">\n",
       "  (function(spec, embedOpt){\n",
       "    let outputDiv = document.currentScript.previousElementSibling;\n",
       "    if (outputDiv.id !== \"altair-viz-6e81ab06161f4ab7b17ca0742725ed9e\") {\n",
       "      outputDiv = document.getElementById(\"altair-viz-6e81ab06161f4ab7b17ca0742725ed9e\");\n",
       "    }\n",
       "    const paths = {\n",
       "      \"vega\": \"https://cdn.jsdelivr.net/npm//vega@5?noext\",\n",
       "      \"vega-lib\": \"https://cdn.jsdelivr.net/npm//vega-lib?noext\",\n",
       "      \"vega-lite\": \"https://cdn.jsdelivr.net/npm//vega-lite@4.8.1?noext\",\n",
       "      \"vega-embed\": \"https://cdn.jsdelivr.net/npm//vega-embed@6?noext\",\n",
       "    };\n",
       "\n",
       "    function loadScript(lib) {\n",
       "      return new Promise(function(resolve, reject) {\n",
       "        var s = document.createElement('script');\n",
       "        s.src = paths[lib];\n",
       "        s.async = true;\n",
       "        s.onload = () => resolve(paths[lib]);\n",
       "        s.onerror = () => reject(`Error loading script: ${paths[lib]}`);\n",
       "        document.getElementsByTagName(\"head\")[0].appendChild(s);\n",
       "      });\n",
       "    }\n",
       "\n",
       "    function showError(err) {\n",
       "      outputDiv.innerHTML = `<div class=\"error\" style=\"color:red;\">${err}</div>`;\n",
       "      throw err;\n",
       "    }\n",
       "\n",
       "    function displayChart(vegaEmbed) {\n",
       "      vegaEmbed(outputDiv, spec, embedOpt)\n",
       "        .catch(err => showError(`Javascript Error: ${err.message}<br>This usually means there's a typo in your chart specification. See the javascript console for the full traceback.`));\n",
       "    }\n",
       "\n",
       "    if(typeof define === \"function\" && define.amd) {\n",
       "      requirejs.config({paths});\n",
       "      require([\"vega-embed\"], displayChart, err => showError(`Error loading script: ${err.message}`));\n",
       "    } else if (typeof vegaEmbed === \"function\") {\n",
       "      displayChart(vegaEmbed);\n",
       "    } else {\n",
       "      loadScript(\"vega\")\n",
       "        .then(() => loadScript(\"vega-lite\"))\n",
       "        .then(() => loadScript(\"vega-embed\"))\n",
       "        .catch(showError)\n",
       "        .then(() => displayChart(vegaEmbed));\n",
       "    }\n",
       "  })({\"config\": {\"view\": {\"continuousWidth\": 400, \"continuousHeight\": 300}}, \"data\": {\"name\": \"data-c1ba79d3e2bce08ed80a0302f23a87a4\"}, \"mark\": \"bar\", \"encoding\": {\"color\": {\"condition\": {\"value\": \"steelblue\", \"test\": \"(datum.Number_of_Developers > 0)\"}, \"value\": \"orange\"}, \"x\": {\"type\": \"nominal\", \"field\": \"database\"}, \"y\": {\"type\": \"quantitative\", \"field\": \"Number_of_Developers\", \"title\": \"Number of Developers\"}}, \"width\": 650, \"$schema\": \"https://vega.github.io/schema/vega-lite/v4.8.1.json\", \"datasets\": {\"data-c1ba79d3e2bce08ed80a0302f23a87a4\": [{\"database\": \"Cassandra\", \"Number_of_Developers\": 443}, {\"database\": \"Couchbase\", \"Number_of_Developers\": 115}, {\"database\": \"DynamoDB\", \"Number_of_Developers\": 207}, {\"database\": \"Elasticsearch\", \"Number_of_Developers\": 434}, {\"database\": \"Firebase\", \"Number_of_Developers\": 142}, {\"database\": \"IBM DB2\", \"Number_of_Developers\": -102}, {\"database\": \"MariaDB\", \"Number_of_Developers\": -266}, {\"database\": \"Microsoft\", \"Number_of_Developers\": -1008}, {\"database\": \"SQL Server\", \"Number_of_Developers\": -1008}, {\"database\": \"MongoDB\", \"Number_of_Developers\": 239}, {\"database\": \"MySQL\", \"Number_of_Developers\": -1363}, {\"database\": \"Oracle\", \"Number_of_Developers\": -480}]}}, {\"mode\": \"vega-lite\"});\n",
       "</script>"
      ],
      "text/plain": [
       "alt.Chart(...)"
      ]
     },
     "execution_count": 28,
     "metadata": {},
     "output_type": "execute_result"
    }
   ],
   "source": [
    "diff_plot(DatabaseWorkedWith, DatabaseDesireNextYear, 'database')"
   ]
  },
  {
   "cell_type": "markdown",
   "metadata": {},
   "source": [
    "# What are the most used platforms by data scientists in 2020?"
   ]
  },
  {
   "cell_type": "code",
   "execution_count": 29,
   "metadata": {},
   "outputs": [],
   "source": [
    "platforms = ['Android','Arduino', 'AWS', 'Docker', 'Google Cloud Platform', 'Heroku', \n",
    "             'IBM Cloud or Watson iOS', 'Kubernetes', 'Linux', 'MacOS', 'Microsoft Azure', \n",
    "             'Raspberry Pi', 'Slack Apps and Integrations Windows'] "
   ]
  },
  {
   "cell_type": "code",
   "execution_count": 30,
   "metadata": {},
   "outputs": [],
   "source": [
    "PlatformWorkedWith = clean_counts(data_jobs_df,'PlatformWorkedWith', platforms, 'platforms')"
   ]
  },
  {
   "cell_type": "markdown",
   "metadata": {},
   "source": [
    "# What platforms do data scientists want to work with NEXT year?"
   ]
  },
  {
   "cell_type": "code",
   "execution_count": 31,
   "metadata": {},
   "outputs": [],
   "source": [
    "PlatformDesireNextYear= clean_counts(data_jobs_df,'PlatformDesireNextYear', platforms, 'platforms')"
   ]
  },
  {
   "cell_type": "code",
   "execution_count": 32,
   "metadata": {},
   "outputs": [
    {
     "data": {
      "text/html": [
       "\n",
       "<div id=\"altair-viz-e4dca440e86442f6a41519bc618adde9\"></div>\n",
       "<script type=\"text/javascript\">\n",
       "  (function(spec, embedOpt){\n",
       "    let outputDiv = document.currentScript.previousElementSibling;\n",
       "    if (outputDiv.id !== \"altair-viz-e4dca440e86442f6a41519bc618adde9\") {\n",
       "      outputDiv = document.getElementById(\"altair-viz-e4dca440e86442f6a41519bc618adde9\");\n",
       "    }\n",
       "    const paths = {\n",
       "      \"vega\": \"https://cdn.jsdelivr.net/npm//vega@5?noext\",\n",
       "      \"vega-lib\": \"https://cdn.jsdelivr.net/npm//vega-lib?noext\",\n",
       "      \"vega-lite\": \"https://cdn.jsdelivr.net/npm//vega-lite@4.8.1?noext\",\n",
       "      \"vega-embed\": \"https://cdn.jsdelivr.net/npm//vega-embed@6?noext\",\n",
       "    };\n",
       "\n",
       "    function loadScript(lib) {\n",
       "      return new Promise(function(resolve, reject) {\n",
       "        var s = document.createElement('script');\n",
       "        s.src = paths[lib];\n",
       "        s.async = true;\n",
       "        s.onload = () => resolve(paths[lib]);\n",
       "        s.onerror = () => reject(`Error loading script: ${paths[lib]}`);\n",
       "        document.getElementsByTagName(\"head\")[0].appendChild(s);\n",
       "      });\n",
       "    }\n",
       "\n",
       "    function showError(err) {\n",
       "      outputDiv.innerHTML = `<div class=\"error\" style=\"color:red;\">${err}</div>`;\n",
       "      throw err;\n",
       "    }\n",
       "\n",
       "    function displayChart(vegaEmbed) {\n",
       "      vegaEmbed(outputDiv, spec, embedOpt)\n",
       "        .catch(err => showError(`Javascript Error: ${err.message}<br>This usually means there's a typo in your chart specification. See the javascript console for the full traceback.`));\n",
       "    }\n",
       "\n",
       "    if(typeof define === \"function\" && define.amd) {\n",
       "      requirejs.config({paths});\n",
       "      require([\"vega-embed\"], displayChart, err => showError(`Error loading script: ${err.message}`));\n",
       "    } else if (typeof vegaEmbed === \"function\") {\n",
       "      displayChart(vegaEmbed);\n",
       "    } else {\n",
       "      loadScript(\"vega\")\n",
       "        .then(() => loadScript(\"vega-lite\"))\n",
       "        .then(() => loadScript(\"vega-embed\"))\n",
       "        .catch(showError)\n",
       "        .then(() => displayChart(vegaEmbed));\n",
       "    }\n",
       "  })({\"config\": {\"view\": {\"continuousWidth\": 400, \"continuousHeight\": 300}}, \"data\": {\"name\": \"data-73abf3831b4ab677c99416ca66bf6d35\"}, \"mark\": {\"type\": \"bar\", \"opacity\": 0.9}, \"encoding\": {\"color\": {\"type\": \"nominal\", \"field\": \"usage\"}, \"x\": {\"type\": \"quantitative\", \"field\": \"Number_of_Developers\", \"title\": \"Number of Developers\"}, \"y\": {\"type\": \"nominal\", \"field\": \"platforms\", \"sort\": \"-x\"}}, \"width\": 650, \"$schema\": \"https://vega.github.io/schema/vega-lite/v4.8.1.json\", \"datasets\": {\"data-73abf3831b4ab677c99416ca66bf6d35\": [{\"platforms\": \"Android\", \"Number_of_Developers\": 1331, \"usage\": \"Worked with in PAST year\"}, {\"platforms\": \"Arduino\", \"Number_of_Developers\": 708, \"usage\": \"Worked with in PAST year\"}, {\"platforms\": \"AWS\", \"Number_of_Developers\": 2046, \"usage\": \"Worked with in PAST year\"}, {\"platforms\": \"Docker\", \"Number_of_Developers\": 2309, \"usage\": \"Worked with in PAST year\"}, {\"platforms\": \"Google Cloud Platform\", \"Number_of_Developers\": 1217, \"usage\": \"Worked with in PAST year\"}, {\"platforms\": \"Heroku\", \"Number_of_Developers\": 606, \"usage\": \"Worked with in PAST year\"}, {\"platforms\": \"Kubernetes\", \"Number_of_Developers\": 847, \"usage\": \"Worked with in PAST year\"}, {\"platforms\": \"Linux\", \"Number_of_Developers\": 3562, \"usage\": \"Worked with in PAST year\"}, {\"platforms\": \"MacOS\", \"Number_of_Developers\": 1445, \"usage\": \"Worked with in PAST year\"}, {\"platforms\": \"Microsoft Azure\", \"Number_of_Developers\": 1211, \"usage\": \"Worked with in PAST year\"}, {\"platforms\": \"Raspberry Pi\", \"Number_of_Developers\": 1046, \"usage\": \"Worked with in PAST year\"}, {\"platforms\": \"Android\", \"Number_of_Developers\": 1462, \"usage\": \"Want to work with NEXT year\"}, {\"platforms\": \"Arduino\", \"Number_of_Developers\": 823, \"usage\": \"Want to work with NEXT year\"}, {\"platforms\": \"AWS\", \"Number_of_Developers\": 2432, \"usage\": \"Want to work with NEXT year\"}, {\"platforms\": \"Docker\", \"Number_of_Developers\": 2768, \"usage\": \"Want to work with NEXT year\"}, {\"platforms\": \"Google Cloud Platform\", \"Number_of_Developers\": 1709, \"usage\": \"Want to work with NEXT year\"}, {\"platforms\": \"Heroku\", \"Number_of_Developers\": 538, \"usage\": \"Want to work with NEXT year\"}, {\"platforms\": \"Kubernetes\", \"Number_of_Developers\": 1791, \"usage\": \"Want to work with NEXT year\"}, {\"platforms\": \"Linux\", \"Number_of_Developers\": 3218, \"usage\": \"Want to work with NEXT year\"}, {\"platforms\": \"MacOS\", \"Number_of_Developers\": 1270, \"usage\": \"Want to work with NEXT year\"}, {\"platforms\": \"Microsoft Azure\", \"Number_of_Developers\": 1495, \"usage\": \"Want to work with NEXT year\"}, {\"platforms\": \"Raspberry Pi\", \"Number_of_Developers\": 1486, \"usage\": \"Want to work with NEXT year\"}]}}, {\"mode\": \"vega-lite\"});\n",
       "</script>"
      ],
      "text/plain": [
       "alt.Chart(...)"
      ]
     },
     "execution_count": 32,
     "metadata": {},
     "output_type": "execute_result"
    }
   ],
   "source": [
    "create_plot(PlatformWorkedWith, PlatformDesireNextYear, 'platforms')"
   ]
  },
  {
   "cell_type": "code",
   "execution_count": 33,
   "metadata": {},
   "outputs": [
    {
     "data": {
      "text/html": [
       "\n",
       "<div id=\"altair-viz-ecaa39da3b8d4863b0999c82e8baa5c3\"></div>\n",
       "<script type=\"text/javascript\">\n",
       "  (function(spec, embedOpt){\n",
       "    let outputDiv = document.currentScript.previousElementSibling;\n",
       "    if (outputDiv.id !== \"altair-viz-ecaa39da3b8d4863b0999c82e8baa5c3\") {\n",
       "      outputDiv = document.getElementById(\"altair-viz-ecaa39da3b8d4863b0999c82e8baa5c3\");\n",
       "    }\n",
       "    const paths = {\n",
       "      \"vega\": \"https://cdn.jsdelivr.net/npm//vega@5?noext\",\n",
       "      \"vega-lib\": \"https://cdn.jsdelivr.net/npm//vega-lib?noext\",\n",
       "      \"vega-lite\": \"https://cdn.jsdelivr.net/npm//vega-lite@4.8.1?noext\",\n",
       "      \"vega-embed\": \"https://cdn.jsdelivr.net/npm//vega-embed@6?noext\",\n",
       "    };\n",
       "\n",
       "    function loadScript(lib) {\n",
       "      return new Promise(function(resolve, reject) {\n",
       "        var s = document.createElement('script');\n",
       "        s.src = paths[lib];\n",
       "        s.async = true;\n",
       "        s.onload = () => resolve(paths[lib]);\n",
       "        s.onerror = () => reject(`Error loading script: ${paths[lib]}`);\n",
       "        document.getElementsByTagName(\"head\")[0].appendChild(s);\n",
       "      });\n",
       "    }\n",
       "\n",
       "    function showError(err) {\n",
       "      outputDiv.innerHTML = `<div class=\"error\" style=\"color:red;\">${err}</div>`;\n",
       "      throw err;\n",
       "    }\n",
       "\n",
       "    function displayChart(vegaEmbed) {\n",
       "      vegaEmbed(outputDiv, spec, embedOpt)\n",
       "        .catch(err => showError(`Javascript Error: ${err.message}<br>This usually means there's a typo in your chart specification. See the javascript console for the full traceback.`));\n",
       "    }\n",
       "\n",
       "    if(typeof define === \"function\" && define.amd) {\n",
       "      requirejs.config({paths});\n",
       "      require([\"vega-embed\"], displayChart, err => showError(`Error loading script: ${err.message}`));\n",
       "    } else if (typeof vegaEmbed === \"function\") {\n",
       "      displayChart(vegaEmbed);\n",
       "    } else {\n",
       "      loadScript(\"vega\")\n",
       "        .then(() => loadScript(\"vega-lite\"))\n",
       "        .then(() => loadScript(\"vega-embed\"))\n",
       "        .catch(showError)\n",
       "        .then(() => displayChart(vegaEmbed));\n",
       "    }\n",
       "  })({\"config\": {\"view\": {\"continuousWidth\": 400, \"continuousHeight\": 300}}, \"data\": {\"name\": \"data-2cc917ec382943598c2546aa4b8cc798\"}, \"mark\": \"bar\", \"encoding\": {\"color\": {\"condition\": {\"value\": \"steelblue\", \"test\": \"(datum.Number_of_Developers > 0)\"}, \"value\": \"orange\"}, \"x\": {\"type\": \"nominal\", \"field\": \"platforms\"}, \"y\": {\"type\": \"quantitative\", \"field\": \"Number_of_Developers\", \"title\": \"Number of Developers\"}}, \"width\": 650, \"$schema\": \"https://vega.github.io/schema/vega-lite/v4.8.1.json\", \"datasets\": {\"data-2cc917ec382943598c2546aa4b8cc798\": [{\"platforms\": \"Android\", \"Number_of_Developers\": 131}, {\"platforms\": \"Arduino\", \"Number_of_Developers\": 115}, {\"platforms\": \"AWS\", \"Number_of_Developers\": 386}, {\"platforms\": \"Docker\", \"Number_of_Developers\": 459}, {\"platforms\": \"Google Cloud Platform\", \"Number_of_Developers\": 492}, {\"platforms\": \"Heroku\", \"Number_of_Developers\": -68}, {\"platforms\": \"Kubernetes\", \"Number_of_Developers\": 944}, {\"platforms\": \"Linux\", \"Number_of_Developers\": -344}, {\"platforms\": \"MacOS\", \"Number_of_Developers\": -175}, {\"platforms\": \"Microsoft Azure\", \"Number_of_Developers\": 284}, {\"platforms\": \"Raspberry Pi\", \"Number_of_Developers\": 440}]}}, {\"mode\": \"vega-lite\"});\n",
       "</script>"
      ],
      "text/plain": [
       "alt.Chart(...)"
      ]
     },
     "execution_count": 33,
     "metadata": {},
     "output_type": "execute_result"
    }
   ],
   "source": [
    "diff_plot(PlatformWorkedWith, PlatformDesireNextYear, 'platforms')"
   ]
  },
  {
   "cell_type": "markdown",
   "metadata": {},
   "source": [
    "# what are the most used frameworks for data scientists?"
   ]
  },
  {
   "cell_type": "code",
   "execution_count": 34,
   "metadata": {},
   "outputs": [],
   "source": [
    "other_framworks = ['.NET', '.NET', 'Core', 'Ansible', 'Apache Spark', 'Chef', \n",
    "                 'Cordova', 'Flutter', 'Hadoop', 'Keras', 'Node.js', 'Pandas', \n",
    "                 'Puppet', 'React', 'Native', 'TensorFlow', 'Terraform', 'Torch/PyTorch', 'Unity', \n",
    "                 '3D Unreal Engine'] "
   ]
  },
  {
   "cell_type": "code",
   "execution_count": 38,
   "metadata": {},
   "outputs": [],
   "source": [
    "MiscTechWorkedWith = clean_counts(data_jobs_df,'MiscTechWorkedWith', other_framworks, 'frameworks')"
   ]
  },
  {
   "cell_type": "markdown",
   "metadata": {},
   "source": [
    "# what are the most desired frameworks for data scientists for the future?"
   ]
  },
  {
   "cell_type": "code",
   "execution_count": 39,
   "metadata": {},
   "outputs": [],
   "source": [
    "MiscTechDesireNextYear = clean_counts(data_jobs_df,'MiscTechDesireNextYear', other_framworks, 'frameworks')"
   ]
  },
  {
   "cell_type": "code",
   "execution_count": 41,
   "metadata": {},
   "outputs": [
    {
     "data": {
      "text/html": [
       "\n",
       "<div id=\"altair-viz-37bbb305c42446bea4652a9c79f715bd\"></div>\n",
       "<script type=\"text/javascript\">\n",
       "  (function(spec, embedOpt){\n",
       "    let outputDiv = document.currentScript.previousElementSibling;\n",
       "    if (outputDiv.id !== \"altair-viz-37bbb305c42446bea4652a9c79f715bd\") {\n",
       "      outputDiv = document.getElementById(\"altair-viz-37bbb305c42446bea4652a9c79f715bd\");\n",
       "    }\n",
       "    const paths = {\n",
       "      \"vega\": \"https://cdn.jsdelivr.net/npm//vega@5?noext\",\n",
       "      \"vega-lib\": \"https://cdn.jsdelivr.net/npm//vega-lib?noext\",\n",
       "      \"vega-lite\": \"https://cdn.jsdelivr.net/npm//vega-lite@4.8.1?noext\",\n",
       "      \"vega-embed\": \"https://cdn.jsdelivr.net/npm//vega-embed@6?noext\",\n",
       "    };\n",
       "\n",
       "    function loadScript(lib) {\n",
       "      return new Promise(function(resolve, reject) {\n",
       "        var s = document.createElement('script');\n",
       "        s.src = paths[lib];\n",
       "        s.async = true;\n",
       "        s.onload = () => resolve(paths[lib]);\n",
       "        s.onerror = () => reject(`Error loading script: ${paths[lib]}`);\n",
       "        document.getElementsByTagName(\"head\")[0].appendChild(s);\n",
       "      });\n",
       "    }\n",
       "\n",
       "    function showError(err) {\n",
       "      outputDiv.innerHTML = `<div class=\"error\" style=\"color:red;\">${err}</div>`;\n",
       "      throw err;\n",
       "    }\n",
       "\n",
       "    function displayChart(vegaEmbed) {\n",
       "      vegaEmbed(outputDiv, spec, embedOpt)\n",
       "        .catch(err => showError(`Javascript Error: ${err.message}<br>This usually means there's a typo in your chart specification. See the javascript console for the full traceback.`));\n",
       "    }\n",
       "\n",
       "    if(typeof define === \"function\" && define.amd) {\n",
       "      requirejs.config({paths});\n",
       "      require([\"vega-embed\"], displayChart, err => showError(`Error loading script: ${err.message}`));\n",
       "    } else if (typeof vegaEmbed === \"function\") {\n",
       "      displayChart(vegaEmbed);\n",
       "    } else {\n",
       "      loadScript(\"vega\")\n",
       "        .then(() => loadScript(\"vega-lite\"))\n",
       "        .then(() => loadScript(\"vega-embed\"))\n",
       "        .catch(showError)\n",
       "        .then(() => displayChart(vegaEmbed));\n",
       "    }\n",
       "  })({\"config\": {\"view\": {\"continuousWidth\": 400, \"continuousHeight\": 300}}, \"data\": {\"name\": \"data-1cc3b7bc5296f089a68e5d0784d26dbc\"}, \"mark\": {\"type\": \"bar\", \"opacity\": 0.9}, \"encoding\": {\"color\": {\"type\": \"nominal\", \"field\": \"usage\"}, \"x\": {\"type\": \"quantitative\", \"field\": \"Number_of_Developers\", \"title\": \"Number of Developers\"}, \"y\": {\"type\": \"nominal\", \"field\": \"frameworks\", \"sort\": \"-x\"}}, \"width\": 650, \"$schema\": \"https://vega.github.io/schema/vega-lite/v4.8.1.json\", \"datasets\": {\"data-1cc3b7bc5296f089a68e5d0784d26dbc\": [{\"frameworks\": \".NET\", \"Number_of_Developers\": 3676, \"usage\": \"Worked with in PAST year\"}, {\"frameworks\": \"Core\", \"Number_of_Developers\": 1189, \"usage\": \"Worked with in PAST year\"}, {\"frameworks\": \"Ansible\", \"Number_of_Developers\": 412, \"usage\": \"Worked with in PAST year\"}, {\"frameworks\": \"Apache Spark\", \"Number_of_Developers\": 813, \"usage\": \"Worked with in PAST year\"}, {\"frameworks\": \"Chef\", \"Number_of_Developers\": 124, \"usage\": \"Worked with in PAST year\"}, {\"frameworks\": \"Cordova\", \"Number_of_Developers\": 290, \"usage\": \"Worked with in PAST year\"}, {\"frameworks\": \"Flutter\", \"Number_of_Developers\": 281, \"usage\": \"Worked with in PAST year\"}, {\"frameworks\": \"Hadoop\", \"Number_of_Developers\": 685, \"usage\": \"Worked with in PAST year\"}, {\"frameworks\": \"Keras\", \"Number_of_Developers\": 577, \"usage\": \"Worked with in PAST year\"}, {\"frameworks\": \"Node.js\", \"Number_of_Developers\": 1974, \"usage\": \"Worked with in PAST year\"}, {\"frameworks\": \"Pandas\", \"Number_of_Developers\": 1869, \"usage\": \"Worked with in PAST year\"}, {\"frameworks\": \"Puppet\", \"Number_of_Developers\": 148, \"usage\": \"Worked with in PAST year\"}, {\"frameworks\": \"React\", \"Number_of_Developers\": 447, \"usage\": \"Worked with in PAST year\"}, {\"frameworks\": \"Native\", \"Number_of_Developers\": 447, \"usage\": \"Worked with in PAST year\"}, {\"frameworks\": \"TensorFlow\", \"Number_of_Developers\": 971, \"usage\": \"Worked with in PAST year\"}, {\"frameworks\": \"Torch/PyTorch\", \"Number_of_Developers\": 426, \"usage\": \"Worked with in PAST year\"}, {\"frameworks\": \"Unity\", \"Number_of_Developers\": 370, \"usage\": \"Worked with in PAST year\"}, {\"frameworks\": \".NET\", \"Number_of_Developers\": 3086, \"usage\": \"Want to work with NEXT year\"}, {\"frameworks\": \"Core\", \"Number_of_Developers\": 1270, \"usage\": \"Want to work with NEXT year\"}, {\"frameworks\": \"Ansible\", \"Number_of_Developers\": 506, \"usage\": \"Want to work with NEXT year\"}, {\"frameworks\": \"Apache Spark\", \"Number_of_Developers\": 1226, \"usage\": \"Want to work with NEXT year\"}, {\"frameworks\": \"Chef\", \"Number_of_Developers\": 195, \"usage\": \"Want to work with NEXT year\"}, {\"frameworks\": \"Cordova\", \"Number_of_Developers\": 200, \"usage\": \"Want to work with NEXT year\"}, {\"frameworks\": \"Flutter\", \"Number_of_Developers\": 641, \"usage\": \"Want to work with NEXT year\"}, {\"frameworks\": \"Hadoop\", \"Number_of_Developers\": 1050, \"usage\": \"Want to work with NEXT year\"}, {\"frameworks\": \"Keras\", \"Number_of_Developers\": 899, \"usage\": \"Want to work with NEXT year\"}, {\"frameworks\": \"Node.js\", \"Number_of_Developers\": 1920, \"usage\": \"Want to work with NEXT year\"}, {\"frameworks\": \"Pandas\", \"Number_of_Developers\": 1874, \"usage\": \"Want to work with NEXT year\"}, {\"frameworks\": \"Puppet\", \"Number_of_Developers\": 208, \"usage\": \"Want to work with NEXT year\"}, {\"frameworks\": \"React\", \"Number_of_Developers\": 886, \"usage\": \"Want to work with NEXT year\"}, {\"frameworks\": \"Native\", \"Number_of_Developers\": 886, \"usage\": \"Want to work with NEXT year\"}, {\"frameworks\": \"TensorFlow\", \"Number_of_Developers\": 2089, \"usage\": \"Want to work with NEXT year\"}, {\"frameworks\": \"Torch/PyTorch\", \"Number_of_Developers\": 1116, \"usage\": \"Want to work with NEXT year\"}, {\"frameworks\": \"Unity\", \"Number_of_Developers\": 697, \"usage\": \"Want to work with NEXT year\"}]}}, {\"mode\": \"vega-lite\"});\n",
       "</script>"
      ],
      "text/plain": [
       "alt.Chart(...)"
      ]
     },
     "execution_count": 41,
     "metadata": {},
     "output_type": "execute_result"
    }
   ],
   "source": [
    "create_plot(MiscTechWorkedWith, MiscTechDesireNextYear, 'frameworks')"
   ]
  },
  {
   "cell_type": "code",
   "execution_count": null,
   "metadata": {},
   "outputs": [],
   "source": []
  }
 ],
 "metadata": {
  "kernelspec": {
   "display_name": "Python 3",
   "language": "python",
   "name": "python3"
  },
  "language_info": {
   "codemirror_mode": {
    "name": "ipython",
    "version": 3
   },
   "file_extension": ".py",
   "mimetype": "text/x-python",
   "name": "python",
   "nbconvert_exporter": "python",
   "pygments_lexer": "ipython3",
   "version": "3.7.4"
  }
 },
 "nbformat": 4,
 "nbformat_minor": 2
}
